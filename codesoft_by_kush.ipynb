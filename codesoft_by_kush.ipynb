{
  "nbformat": 4,
  "nbformat_minor": 0,
  "metadata": {
    "colab": {
      "provenance": [],
      "authorship_tag": "ABX9TyPn0z0DST1uG0q8So2ShqTj",
      "include_colab_link": true
    },
    "kernelspec": {
      "name": "python3",
      "display_name": "Python 3"
    },
    "language_info": {
      "name": "python"
    }
  },
  "cells": [
    {
      "cell_type": "markdown",
      "metadata": {
        "id": "view-in-github",
        "colab_type": "text"
      },
      "source": [
        "<a href=\"https://colab.research.google.com/github/kuxhagr08/CODESOFT08/blob/main/codesoft_by_kush.ipynb\" target=\"_parent\"><img src=\"https://colab.research.google.com/assets/colab-badge.svg\" alt=\"Open In Colab\"/></a>"
      ]
    },
    {
      "cell_type": "code",
      "source": [
        "# Simple To-Do List in Python\n",
        "\n",
        "def show_tasks(tasks):\n",
        "    if not tasks:\n",
        "        print(\"\\nNo tasks in your list.\")\n",
        "    else:\n",
        "        print(\"\\nYour To-Do List:\")\n",
        "        for i, task in enumerate(tasks, 1):\n",
        "            print(f\"{i}. {task}\")\n",
        "\n",
        "def add_task(tasks):\n",
        "    task = input(\"Enter a new task: \")\n",
        "    tasks.append(task)\n",
        "    print(f\"'{task}' has been added to your To-Do list.\")\n",
        "\n",
        "def remove_task(tasks):\n",
        "    show_tasks(tasks)\n",
        "    if tasks:\n",
        "        try:\n",
        "            task_num = int(input(\"Enter the number of the task to remove: \"))\n",
        "            if 1 <= task_num <= len(tasks):\n",
        "                removed_task = tasks.pop(task_num - 1)\n",
        "                print(f\"'{removed_task}' has been removed from your To-Do list.\")\n",
        "            else:\n",
        "                print(\"Invalid task number.\")\n",
        "        except ValueError:\n",
        "            print(\"Please enter a valid number.\")\n",
        "\n",
        "def main():\n",
        "    tasks = []\n",
        "\n",
        "    while True:\n",
        "        print(\"\\nTo-Do List Menu:\")\n",
        "        print(\"1. View tasks\")\n",
        "        print(\"2. Add task\")\n",
        "        print(\"3. Remove task\")\n",
        "        print(\"4. Exit\")\n",
        "\n",
        "        choice = input(\"Choose an option (1/2/3/4): \")\n",
        "\n",
        "        if choice == '1':\n",
        "            show_tasks(tasks)\n",
        "        elif choice == '2':\n",
        "            add_task(tasks)\n",
        "        elif choice == '3':\n",
        "            remove_task(tasks)\n",
        "        elif choice == '4':\n",
        "            print(\"Goodbye! Have a productive day!\")\n",
        "            break\n",
        "        else:\n",
        "            print(\"Invalid choice. Please try again.\")\n",
        "\n",
        "# Run the To-Do list application\n",
        "main()\n"
      ],
      "metadata": {
        "id": "XweTQdUUzFBb"
      },
      "execution_count": null,
      "outputs": []
    },
    {
      "cell_type": "code",
      "source": [
        "import random\n",
        "import string\n",
        "\n",
        "def generate_password(length):\n",
        "    # Define the character set: uppercase, lowercase, digits, and punctuation\n",
        "    characters = string.ascii_letters + string.digits + string.punctuation\n",
        "\n",
        "    # Randomly choose characters from the set to form the password\n",
        "    password = ''.join(random.choice(characters) for _ in range(length))\n",
        "    return password\n",
        "\n",
        "def main():\n",
        "    try:\n",
        "        length = int(input(\"Enter the desired password length: \"))\n",
        "        if length <= 0:\n",
        "            print(\"Please enter a positive integer.\")\n",
        "            return\n",
        "\n",
        "        password = generate_password(length)\n",
        "        print(f\"Generated password: {password}\")\n",
        "    except ValueError:\n",
        "        print(\"Please enter a valid number.\")\n",
        "\n",
        "if __name__ == \"__main__\":\n",
        "    main()\n"
      ],
      "metadata": {
        "colab": {
          "base_uri": "https://localhost:8080/"
        },
        "id": "dFIgscsi5emb",
        "outputId": "fca7c10f-d915-432f-e584-8633d53e119d"
      },
      "execution_count": 3,
      "outputs": [
        {
          "output_type": "stream",
          "name": "stdout",
          "text": [
            "Enter the desired password length: 15\n",
            "Generated password: 1^NMR87R/'kG(/$\n"
          ]
        }
      ]
    },
    {
      "cell_type": "code",
      "source": [
        "# Simple Calculator in Python\n",
        "\n",
        "def add(x, y):\n",
        "    return x + y\n",
        "\n",
        "def subtract(x, y):\n",
        "    return x - y\n",
        "\n",
        "def multiply(x, y):\n",
        "    return x * y\n",
        "\n",
        "def divide(x, y):\n",
        "    if y == 0:\n",
        "        return \"Error! Division by zero.\"\n",
        "    return x / y\n",
        "\n",
        "def calculator():\n",
        "    print(\"Select operation:\")\n",
        "    print(\"1. Add\")\n",
        "    print(\"2. Subtract\")\n",
        "    print(\"3. Multiply\")\n",
        "    print(\"4. Divide\")\n",
        "\n",
        "    choice = input(\"Enter choice (1/2/3/4): \")\n",
        "\n",
        "    if choice in ['1', '2', '3', '4']:\n",
        "        num1 = float(input(\"Enter first number: \"))\n",
        "        num2 = float(input(\"Enter second number: \"))\n",
        "\n",
        "        if choice == '1':\n",
        "            print(f\"{num1} + {num2} = {add(num1, num2)}\")\n",
        "        elif choice == '2':\n",
        "            print(f\"{num1} - {num2} = {subtract(num1, num2)}\")\n",
        "        elif choice == '3':\n",
        "            print(f\"{num1} * {num2} = {multiply(num1, num2)}\")\n",
        "        elif choice == '4':\n",
        "            print(f\"{num1} / {num2} = {divide(num1, num2)}\")\n",
        "    else:\n",
        "        print(\"Invalid input, please choose 1, 2, 3, or 4.\")\n",
        "\n",
        "# Run the calculator\n",
        "calculator()\n"
      ],
      "metadata": {
        "id": "ZMApCqrdzLn2"
      },
      "execution_count": null,
      "outputs": []
    }
  ]
}